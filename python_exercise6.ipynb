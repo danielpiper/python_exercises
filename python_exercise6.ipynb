{
 "cells": [
  {
   "cell_type": "code",
   "execution_count": 1,
   "metadata": {},
   "outputs": [
    {
     "name": "stdout",
     "output_type": "stream",
     "text": [
      "func was not called before with these parameters (4, 3)\n",
      "64\n",
      "func was called before with these parameters (4, 3)\n",
      "64\n",
      "func was not called before with these parameters (5, 3)\n",
      "125\n",
      "func was called before with these parameters (5, 3)\n",
      "125\n",
      "func was not called before with these parameters (6, 3)\n",
      "216\n",
      "func was called before with these parameters (6, 3)\n",
      "216\n"
     ]
    }
   ],
   "source": [
    "def memorize(func):\n",
    "    cache = dict()\n",
    "    def memorized_func(*args):\n",
    "        if args in cache:\n",
    "            print(\"func was called before with these parameters\", args)\n",
    "            return cache[args]\n",
    "        print(\"func was not called before with these parameters\", args)\n",
    "        result = func(*args)\n",
    "        cache[args] = result\n",
    "        return result\n",
    "\n",
    "    return memorized_func\n",
    "\n",
    "@memorize\n",
    "def heavyfunc(a, b):\n",
    "    return a**b\n",
    "\n",
    "print(heavyfunc(4, 3))\n",
    "print(heavyfunc(4, 3))\n",
    "print(heavyfunc(5, 3))\n",
    "print(heavyfunc(5, 3))\n",
    "print(heavyfunc(6, 3))\n",
    "print(heavyfunc(6, 3))"
   ]
  },
  {
   "cell_type": "code",
   "execution_count": null,
   "metadata": {},
   "outputs": [],
   "source": []
  }
 ],
 "metadata": {
  "kernelspec": {
   "display_name": "Python 3",
   "language": "python",
   "name": "python3"
  },
  "language_info": {
   "codemirror_mode": {
    "name": "ipython",
    "version": 3
   },
   "file_extension": ".py",
   "mimetype": "text/x-python",
   "name": "python",
   "nbconvert_exporter": "python",
   "pygments_lexer": "ipython3",
   "version": "3.8.5"
  }
 },
 "nbformat": 4,
 "nbformat_minor": 4
}
