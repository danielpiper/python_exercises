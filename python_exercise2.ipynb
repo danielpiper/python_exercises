{
 "cells": [
  {
   "cell_type": "code",
   "execution_count": 7,
   "metadata": {},
   "outputs": [
    {
     "data": {
      "text/plain": [
       "0"
      ]
     },
     "execution_count": 7,
     "metadata": {},
     "output_type": "execute_result"
    }
   ],
   "source": [
    "positions_groups = (\n",
    "    [[(x, y) for y in range(3)] for x in range(3)] + # horizontals\n",
    "    [[(x, y) for x in range(3)] for y in range(3)] + # verticals\n",
    "    [[(d, d) for d in range(3)]] + # diagonal from top left to bottom right\n",
    "    [[(2-d, d) for d in range(3)]] # diagonal from top right to bottom left (2-d for 3x3 board)\n",
    ")\n",
    "\n",
    "def get_winner(game):\n",
    "    # return winner in game\n",
    "    for positions in positions_groups:\n",
    "        values = [game[x][y] for (x, y) in positions]\n",
    "        if len(set(values)) == 1: # if len > 1 then there are diffrent numbers\n",
    "            return values[0]\n",
    "    return 0; # return 0 if tie\n",
    "game = [[1, 2, 0],\n",
    "        [2, 1, 0],\n",
    "        [2, 1, 1]]\n",
    "get_winner(game)"
   ]
  },
  {
   "cell_type": "code",
   "execution_count": null,
   "metadata": {},
   "outputs": [],
   "source": []
  }
 ],
 "metadata": {
  "kernelspec": {
   "display_name": "Python 3",
   "language": "python",
   "name": "python3"
  },
  "language_info": {
   "codemirror_mode": {
    "name": "ipython",
    "version": 3
   },
   "file_extension": ".py",
   "mimetype": "text/x-python",
   "name": "python",
   "nbconvert_exporter": "python",
   "pygments_lexer": "ipython3",
   "version": "3.8.5"
  }
 },
 "nbformat": 4,
 "nbformat_minor": 4
}
