{
 "cells": [
  {
   "cell_type": "code",
   "execution_count": 34,
   "metadata": {},
   "outputs": [
    {
     "name": "stdout",
     "output_type": "stream",
     "text": [
      "Please enter your Israeli ID: 213375595\n",
      "ID is OK\n"
     ]
    }
   ],
   "source": [
    "def id_checker(id):\n",
    "    sum = 0; flag = 2;\n",
    "    i = 7;\n",
    "    check = int(id[8]);\n",
    "    while i >= 0:\n",
    "        num = int(id[i]) * flag\n",
    "        if flag == 2:\n",
    "            flag = 1\n",
    "        else:\n",
    "            flag = 2\n",
    "        if num >= 10:\n",
    "            num = num % 10 + int(num/10)\n",
    "        sum += num \n",
    "        i -= 1\n",
    "    if (sum % 10 == 10 - check):\n",
    "        print(\"ID is OK\")\n",
    "    else:\n",
    "        print(\"The ID is incorrect\")\n",
    "\n",
    "x = 0\n",
    "while (x == 0):\n",
    "    id = input(\"Please enter your Israeli ID: \")\n",
    "    if (len(id) == 9):\n",
    "        id_checker(id)\n",
    "        x = 1\n",
    "    else:\n",
    "        print(\"incorect length\")"
   ]
  },
  {
   "cell_type": "code",
   "execution_count": null,
   "metadata": {},
   "outputs": [],
   "source": []
  }
 ],
 "metadata": {
  "kernelspec": {
   "display_name": "Python 3",
   "language": "python",
   "name": "python3"
  },
  "language_info": {
   "codemirror_mode": {
    "name": "ipython",
    "version": 3
   },
   "file_extension": ".py",
   "mimetype": "text/x-python",
   "name": "python",
   "nbconvert_exporter": "python",
   "pygments_lexer": "ipython3",
   "version": "3.8.5"
  }
 },
 "nbformat": 4,
 "nbformat_minor": 4
}
