{
 "cells": [
  {
   "cell_type": "code",
   "execution_count": 18,
   "metadata": {},
   "outputs": [
    {
     "name": "stdout",
     "output_type": "stream",
     "text": [
      "Please enter a number: 5\n",
      "Please enter a number: 7\n",
      "Please enter a number: 4\n",
      "Please enter a number: 8\n",
      "Please enter a number: Stop\n",
      "24\n"
     ]
    }
   ],
   "source": [
    "# a\n",
    "sum = 0\n",
    "num = input(\"Please enter a number: \")\n",
    "while num != \"Stop\":\n",
    "    sum += int(num)\n",
    "    num = input(\"Please enter a number: \")\n",
    "print(\"Sum = \", sum)"
   ]
  },
  {
   "cell_type": "code",
   "execution_count": 20,
   "metadata": {},
   "outputs": [
    {
     "name": "stdout",
     "output_type": "stream",
     "text": [
      "Enter a list element separated by comma 1,2,3,4\n",
      "Calculating sum of element of input list\n",
      "Sum =  10\n"
     ]
    }
   ],
   "source": [
    "# b\n",
    "input_string = input(\"Enter a list element separated by comma \")\n",
    "list = input_string.split(\",\")\n",
    "sum = 0\n",
    "for num in list:\n",
    "    sum += int (num)\n",
    "print(\"Sum = \", sum)"
   ]
  }
 ],
 "metadata": {
  "kernelspec": {
   "display_name": "Python 3",
   "language": "python",
   "name": "python3"
  },
  "language_info": {
   "codemirror_mode": {
    "name": "ipython",
    "version": 3
   },
   "file_extension": ".py",
   "mimetype": "text/x-python",
   "name": "python",
   "nbconvert_exporter": "python",
   "pygments_lexer": "ipython3",
   "version": "3.8.5"
  }
 },
 "nbformat": 4,
 "nbformat_minor": 4
}
