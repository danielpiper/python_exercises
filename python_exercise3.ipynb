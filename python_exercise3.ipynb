{
 "cells": [
  {
   "cell_type": "code",
   "execution_count": 6,
   "metadata": {},
   "outputs": [
    {
     "name": "stdout",
     "output_type": "stream",
     "text": [
      "Please enter string: aabbb\n",
      "a2b3"
     ]
    }
   ],
   "source": [
    "st = input(\"Please enter string: \")\n",
    "n = len(st)\n",
    "i = 0\n",
    "while i < n- 1:\n",
    "    # Count occurrences of\n",
    "    # current character\n",
    "    count = 1\n",
    "    while (i < n - 1 and\n",
    "           st[i] == st[i + 1]):\n",
    "        count += 1\n",
    "        i += 1\n",
    "    i += 1\n",
    "    print(st[i - 1] + str(count), end = \"\")"
   ]
  },
  {
   "cell_type": "code",
   "execution_count": null,
   "metadata": {},
   "outputs": [],
   "source": []
  }
 ],
 "metadata": {
  "kernelspec": {
   "display_name": "Python 3",
   "language": "python",
   "name": "python3"
  },
  "language_info": {
   "codemirror_mode": {
    "name": "ipython",
    "version": 3
   },
   "file_extension": ".py",
   "mimetype": "text/x-python",
   "name": "python",
   "nbconvert_exporter": "python",
   "pygments_lexer": "ipython3",
   "version": "3.8.5"
  }
 },
 "nbformat": 4,
 "nbformat_minor": 4
}
